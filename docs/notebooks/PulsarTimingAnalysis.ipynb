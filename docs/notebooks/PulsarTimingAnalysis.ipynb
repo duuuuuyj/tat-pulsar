{
 "cells": [
  {
   "cell_type": "markdown",
   "id": "683e5a76-28ca-4629-955b-cffc0ec12e5c",
   "metadata": {},
   "source": [
    "# Pulsar Timing Analysis\n",
    "\n",
    "Welcome to our step-by-step Jupyter notebook tutorial on pulsar timing analysis using the TAT-Pulsar Python package. \n",
    "\n",
    "Throughout this guide, we'll provide you with hands-on examples of how to use the key features of TAT-Pulsar. "
   ]
  },
  {
   "cell_type": "markdown",
   "id": "c215d70e-e2a1-4c80-b59d-dc54e9e59721",
   "metadata": {},
   "source": [
    "## Search the best frequency"
   ]
  },
  {
   "cell_type": "code",
   "execution_count": 1,
   "id": "b38c000b-abc9-42a7-b300-1061ee82f47a",
   "metadata": {
    "tags": []
   },
   "outputs": [],
   "source": [
    "import matplotlib.pyplot as plt\n",
    "import matplotlib as mpl\n",
    "import wget, os\n",
    "from astropy.io import fits\n",
    "\n",
    "mpl.rcParams['figure.dpi'] = 150\n",
    "plt.style.use(['science', 'nature', 'no-latex'])"
   ]
  },
  {
   "cell_type": "code",
   "execution_count": 2,
   "id": "ce80a854-10fe-4a01-8317-782610febdd4",
   "metadata": {
    "tags": []
   },
   "outputs": [
    {
     "name": "stdout",
     "output_type": "stream",
     "text": [
      "Downloading the test datab\n",
      "100% [............................................................................] 207025 / 207025"
     ]
    }
   ],
   "source": [
    "test_data_url = \"https://zenodo.org/record/6785435/files/NICER_Crab_data.gz?download=1\"\n",
    "test_orbit_url = \"https://zenodo.org/record/6785435/files/NICER_Crab_orb.gz?download=1\"\n",
    "# The real data are Crab data observed by NICER. \n",
    "# The size of event file is 170MB.\n",
    "\n",
    "test_file = \"NICER_Crab_data.gz\"\n",
    "orbit_file = \"NICER_Crab_orb.gz\"\n",
    "if not os.path.exists(test_file):\n",
    "    print(\"Downloading the test datab\")\n",
    "    wget.download(test_data_url)\n",
    "    wget.download(test_orbit_url)\n",
    "else:\n",
    "    print(f\"The test data '{test_file}' is already downloaded!\")    "
   ]
  },
  {
   "cell_type": "markdown",
   "id": "e04dc0e0-fc0f-4503-b90f-b9f9b19608e0",
   "metadata": {},
   "source": [
    "## Bayrcentric correction"
   ]
  },
  {
   "cell_type": "markdown",
   "id": "b8a38b45-328a-4226-a81a-9ef23d9b50c2",
   "metadata": {},
   "source": [
    "Read the events data from FITS file"
   ]
  },
  {
   "cell_type": "code",
   "execution_count": 3,
   "id": "4e8c04cd-0d8e-4414-b604-46d655da676f",
   "metadata": {},
   "outputs": [],
   "source": [
    "hdulist = fits.open(test_file)\n",
    "time = hdulist['EVENTS'].data['TIME']\n",
    "time = time + hdulist['EVENTS'].header['TIMEZERO'] # NICER Time system correction"
   ]
  },
  {
   "cell_type": "markdown",
   "id": "6d567b99-7253-418e-9f99-b926749b7aaa",
   "metadata": {},
   "source": [
    "Retrieve the parameters from Jodrell Bank Crab monitoring website: http://www.jb.man.ac.uk/~pulsar/crab/all.gro \n",
    "\n",
    "Then write the parameter table into a local file 'Crab.gro', and get the Crab timing parameters covering the observed data."
   ]
  },
  {
   "cell_type": "code",
   "execution_count": 4,
   "id": "87ec44f1-cdcd-4403-9822-3a2611b28076",
   "metadata": {},
   "outputs": [
    {
     "name": "stderr",
     "output_type": "stream",
     "text": [
      "/Users/tuoyouli/anaconda3/lib/python3.7/site-packages/numba/core/decorators.py:255: RuntimeWarning: nopython is set for njit and is ignored\n",
      "  warnings.warn('nopython is set for njit and is ignored', RuntimeWarning)\n"
     ]
    },
    {
     "name": "stdout",
     "output_type": "stream",
     "text": [
      "PSR_B       0531+21\n",
      "RA_hh             5\n",
      "RA_mm            34\n",
      "RA_ss        31.972\n",
      "DEC_hh           22\n",
      "DEC_mm            0\n",
      "DEC_ss        52.07\n",
      "MJD1          57966\n",
      "MJD2          57997\n",
      "t0geo       57981.0\n",
      "f0        29.639378\n",
      "f1             -0.0\n",
      "f2              0.0\n",
      "RMS             0.6\n",
      "O                 J\n",
      "B             DE200\n",
      "name        0531+21\n",
      "Notes           NaN\n",
      "Name: 374, dtype: object\n"
     ]
    }
   ],
   "source": [
    "from tatpulsar.pulse.Crab.retrive_eph import retrieve_ephemeris, get_par\n",
    "from tatpulsar.utils.functions import met2mjd\n",
    "\n",
    "eph = retrieve_ephemeris(write_to_file=True, ephfile='Crab.gro')\n",
    "par = get_par( met2mjd(time[0], telescope='nicer'), eph)\n",
    "print(par)"
   ]
  },
  {
   "cell_type": "markdown",
   "id": "6d21b636-fc7f-4e2e-8b8f-5183ff983ee1",
   "metadata": {},
   "source": [
    "----------\n",
    "According to the GRO parameter provided by Jodrell Bank, the reference time of timing parameters is the integer part of the `t0geo`, `t0geo` is the time of arrival of radio pulse measured at the geometric center of the Earth (in UTC time system). So We convert the `t0geo` to the barycenter of the solar system and calculate the phase of it as `phi0` (convert UTC to TT first).\n",
    "\n",
    "If we want to compare the absolute phase and the phase lag of the profile with the radio (and we usually compare the phase main peak with the Jodrell Bank main peak), we shift the profiles with `phi0`, and it appears to locate near the phase one.\n"
   ]
  },
  {
   "cell_type": "code",
   "execution_count": 5,
   "id": "85d98122-fcba-4d7b-8f42-47f11bf46891",
   "metadata": {},
   "outputs": [
    {
     "name": "stdout",
     "output_type": "stream",
     "text": [
      "the main peak of radio pulse is 0.7807356869125215.\n"
     ]
    }
   ],
   "source": [
    "from tatpulsar.pulse.barycor.barycor import barycor\n",
    "from tatpulsar.pulse.fold import cal_phase\n",
    "from astropy.time import Time\n",
    "\n",
    "# barycentric correction on t0geo\n",
    "t0tt = Time(par.t0geo, format='mjd', scale='utc').tt.to_value(format='mjd')\n",
    "t0bary = barycor(t0tt, ra=83.63321666666667, dec=22.01446388888889)\n",
    "\n",
    "phi0 = cal_phase(t0bary, pepoch=int(par.t0geo),\n",
    "                 f0=par.f0, f1=par.f1, f2=par.f2,\n",
    "                format='mjd')\n",
    "\n",
    "print(f\"the main peak of radio pulse is {phi0}.\")"
   ]
  },
  {
   "cell_type": "markdown",
   "id": "83d443f5-0b37-441e-98a9-2fb869034da1",
   "metadata": {},
   "source": [
    "Now we calculate the barycentric correction on each photon."
   ]
  },
  {
   "cell_type": "code",
   "execution_count": 6,
   "id": "8809dc0b-3959-4def-bfa3-cf603f911c12",
   "metadata": {},
   "outputs": [
    {
     "name": "stdout",
     "output_type": "stream",
     "text": [
      "Accelerating barycor\n"
     ]
    }
   ],
   "source": [
    "# barycor only support time in MJD\n",
    "from tatpulsar.utils.functions import met2mjd, mjd2met\n",
    "\n",
    "time_mjd = met2mjd(time, telescope='nicer')\n",
    "tdb_mjd = barycor(time_mjd, ra=83.63321666666667, dec=22.01446388888889,\n",
    "              orbit=orbit_file, accelerate=True)\n",
    "\n",
    "# convert the TDB in MJD into MET system\n",
    "tdb = mjd2met(tdb_mjd, telescope='nicer')"
   ]
  },
  {
   "cell_type": "markdown",
   "id": "cbd9f270-4e13-4022-a7c3-708640605801",
   "metadata": {},
   "source": [
    "Now we calculate the phase for each photon, and fold the profile, using the function `tatpulsar.pulse.fold.fold`.\n",
    "\n",
    "## Fold profile"
   ]
  },
  {
   "cell_type": "code",
   "execution_count": 7,
   "id": "1c4614fb-0cf5-4f06-816a-b60bcc343aac",
   "metadata": {},
   "outputs": [
    {
     "data": {
      "text/plain": [
       "Text(0, 0.5, 'Counts')"
      ]
     },
     "execution_count": 7,
     "metadata": {},
     "output_type": "execute_result"
    },
    {
     "data": {
      "image/png": "[encoded data removed]",
      "text/plain": [
       "<Figure size 495x375 with 1 Axes>"
      ]
     },
     "metadata": {
      "needs_background": "light"
     },
     "output_type": "display_data"
    }
   ],
   "source": [
    "from tatpulsar.pulse.fold import fold\n",
    "from tatpulsar.data.profile import Profile\n",
    "\n",
    "profile = fold(tdb, f0=par.f0, f1=par.f1, f2=par.f2,\n",
    "                   pepoch=mjd2met(int(par.t0geo), telescope='nicer'),\n",
    "                   nbins=50, phi0=phi0)\n",
    "\n",
    "plt.errorbar(profile.phase, profile.counts, ds='steps-mid')\n",
    "plt.xlabel(\"Phase\")\n",
    "plt.ylabel(\"Counts\")"
   ]
  },
  {
   "cell_type": "markdown",
   "id": "c7d7cc06-94f7-41f2-9a98-f29c945cec46",
   "metadata": {},
   "source": [
    "### Play with the Profile object\n",
    "let's see some features of `Profile` object"
   ]
  },
  {
   "cell_type": "code",
   "execution_count": 10,
   "id": "a7000e0c-9289-42e6-b879-ec0a8bebdae2",
   "metadata": {},
   "outputs": [
    {
     "name": "stdout",
     "output_type": "stream",
     "text": [
      "Cycle is already 2, nothing to do\n"
     ]
    },
    {
     "data": {
      "text/plain": [
       "<ErrorbarContainer object of 3 artists>"
      ]
     },
     "execution_count": 10,
     "metadata": {},
     "output_type": "execute_result"
    },
    {
     "data": {
      "image/png": "[encoded data removed]",
      "text/plain": [
       "<Figure size 495x375 with 1 Axes>"
      ]
     },
     "metadata": {
      "needs_background": "light"
     },
     "output_type": "display_data"
    }
   ],
   "source": [
    "profile.cycles = 2 # Set the phase cycles of profile\n",
    "profile.norm() # Normalization\n",
    "plt.errorbar(profile.phase, profile.counts, \n",
    "             yerr=profile.error, ds='steps-mid')"
   ]
  }
 ],
 "metadata": {
  "kernelspec": {
   "display_name": "Python 3 (ipykernel)",
   "language": "python",
   "name": "python3"
  },
  "language_info": {
   "codemirror_mode": {
    "name": "ipython",
    "version": 3
   },
   "file_extension": ".py",
   "mimetype": "text/x-python",
   "name": "python",
   "nbconvert_exporter": "python",
   "pygments_lexer": "ipython3",
   "version": "3.7.10"
  }
 },
 "nbformat": 4,
 "nbformat_minor": 5
}
